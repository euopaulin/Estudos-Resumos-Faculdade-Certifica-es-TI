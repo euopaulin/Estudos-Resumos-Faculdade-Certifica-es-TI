{
 "cells": [
  {
   "cell_type": "markdown",
   "id": "a66c3393-8d8c-478d-abdc-774c75c6222f",
   "metadata": {},
   "source": [
    "## LPI - LINUX"
   ]
  },
  {
   "cell_type": "markdown",
   "id": "2a71fd54-6d92-4996-b5c1-b6a845319430",
   "metadata": {},
   "source": [
    "sudo = admin\n",
    "apt = pacotes → nível mais alto\n",
    "dpkg = trabalha com pacotes também → nível mais baixo\n",
    "ls = Lista arquivos do diretorio\n",
    "CD = Entra em uma pasta\n",
    "CP = Copia uma pasta\n",
    "MKDIR = Cria uma pasta\n",
    "MV = Serve tanto para mover como para renomear\n",
    "-i = Pergunta ao usuário se ele realmente quer deletar\n",
    "\n",
    "Ramificações de pastas do Linux\n",
    "Em Linux as pastas são semelhantes a uma árvore.\n",
    "\n",
    "(Diagrama de Estrutura de Diretórios)\n",
    "\n",
    "/ →\n",
    "\n",
    "ETC\n",
    "\n",
    "BIN\n",
    "\n",
    "HOME\n",
    "\n",
    "VAR\n",
    "\n",
    "USR\n",
    "\n",
    "PWD = Informa o diretório que eu estou\n",
    "-L = Serve com LS serve para listar detalhes dos arquivos.\n",
    "\n",
    "(Texto sublinhado)\n",
    "O caminho relativo irá referenciar sempre a partir de onde está o meu shell.\n",
    "\n",
    "Diretórios podem possuir todos caracteres, exceto /"
   ]
  }
 ],
 "metadata": {
  "kernelspec": {
   "display_name": "Python 3 (ipykernel)",
   "language": "python",
   "name": "python3"
  },
  "language_info": {
   "codemirror_mode": {
    "name": "ipython",
    "version": 3
   },
   "file_extension": ".py",
   "mimetype": "text/x-python",
   "name": "python",
   "nbconvert_exporter": "python",
   "pygments_lexer": "ipython3",
   "version": "3.13.7"
  }
 },
 "nbformat": 4,
 "nbformat_minor": 5
}
