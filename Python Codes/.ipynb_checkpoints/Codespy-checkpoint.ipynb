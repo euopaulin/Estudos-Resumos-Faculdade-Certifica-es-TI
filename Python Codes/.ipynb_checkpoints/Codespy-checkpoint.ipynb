{
 "cells": [
  {
   "cell_type": "markdown",
   "id": "b4f14997-06d3-4b04-bd03-a2da65dd1da1",
   "metadata": {},
   "source": [
    "## Códigos de testes"
   ]
  },
  {
   "cell_type": "code",
   "execution_count": null,
   "id": "fb8609f7-b615-444a-a7c5-64d2c5bf156b",
   "metadata": {},
   "outputs": [],
   "source": [
    "def teste():\n",
    "    print(\" Olá\")\n",
    "\n",
    "teste()"
   ]
  },
  {
   "cell_type": "code",
   "execution_count": null,
   "id": "a7b036fa-401b-4017-bff9-35fd56aed67e",
   "metadata": {},
   "outputs": [],
   "source": [
    "numero = int(input(\"Digite um número: \"))\n",
    "carro = False\n",
    "\n",
    "if numero == 10 and carro:\n",
    "    print(\"Yeahhh\")\n",
    "elif numero > 10:\n",
    "    print(\"Brutal\")\n",
    "else:\n",
    "    print(\"La policia noooo\")"
   ]
  },
  {
   "cell_type": "markdown",
   "id": "fc4674a2-9efa-459f-a232-be5977efecf4",
   "metadata": {},
   "source": [
    "Faça um programa que peça um número e então mostre a mensagem \"O número informado foi [número]\":"
   ]
  },
  {
   "cell_type": "code",
   "execution_count": null,
   "id": "003924dd-c8ce-4fd6-a012-3334d9236240",
   "metadata": {},
   "outputs": [],
   "source": []
  },
  {
   "cell_type": "markdown",
   "id": "4bc76e7e-8068-4ca6-a19f-a626f5393e13",
   "metadata": {},
   "source": [
    "Faça um programa que peça dois números e imprima a soma:"
   ]
  },
  {
   "cell_type": "code",
   "execution_count": null,
   "id": "2830ecd1-6e37-485a-9ed2-c99433d1a1c0",
   "metadata": {},
   "outputs": [],
   "source": []
  },
  {
   "cell_type": "markdown",
   "id": "7043aeae-f32a-4499-adc0-faf4062f0cee",
   "metadata": {},
   "source": [
    "Faça um programa que peça as 4 notas bimestrais e mostre a média."
   ]
  },
  {
   "cell_type": "code",
   "execution_count": null,
   "id": "02699306-af67-4634-9ca3-a5af409d02d3",
   "metadata": {},
   "outputs": [],
   "source": []
  },
  {
   "cell_type": "markdown",
   "id": "0da27854-1793-4877-8317-a6e1417877bb",
   "metadata": {},
   "source": [
    "Faça um programa que converta metros para centímetros:"
   ]
  },
  {
   "cell_type": "code",
   "execution_count": null,
   "id": "e9252373-f107-4a2f-b614-879ea71ba5b0",
   "metadata": {},
   "outputs": [],
   "source": []
  },
  {
   "cell_type": "markdown",
   "id": "fef5489d-d0b1-4ad7-9697-b3dee739b86b",
   "metadata": {},
   "source": [
    "Faça um programa que peça o raio de um círculo, calcule e mostre sua área:"
   ]
  },
  {
   "cell_type": "code",
   "execution_count": null,
   "id": "ba1fb02f-32e1-4253-8713-f2152141c295",
   "metadata": {},
   "outputs": [],
   "source": []
  },
  {
   "cell_type": "markdown",
   "id": "62441ff8-3401-4acb-b5f3-159392c988ca",
   "metadata": {},
   "source": [
    "Faça um programa que calcule a área de um quadrado, em seguida mostre o dobro desta área para o usuário."
   ]
  },
  {
   "cell_type": "code",
   "execution_count": null,
   "id": "6b536f67-e95c-43a0-8a38-784849f453ac",
   "metadata": {},
   "outputs": [],
   "source": []
  },
  {
   "cell_type": "markdown",
   "id": "eb511a2e-f6d0-4882-9660-a279725303f4",
   "metadata": {},
   "source": [
    "Tendo como dados de entrada um arquivo em Gigabytes, construa um algoritmo que faça a conversão para Megabytes, usando a seguinte fórmula:"
   ]
  },
  {
   "cell_type": "code",
   "execution_count": null,
   "id": "1a64d7af-3831-4b87-b2b6-affbebf5e1be",
   "metadata": {},
   "outputs": [],
   "source": []
  },
  {
   "cell_type": "markdown",
   "id": "91cbc0b8-7b58-4302-87f0-72ef6da96685",
   "metadata": {},
   "source": [
    "## Tomada de decisões"
   ]
  },
  {
   "cell_type": "markdown",
   "id": "df8194f6-81d2-41df-bfaa-8c8122e87fab",
   "metadata": {},
   "source": [
    "Faça um programa que peça dois números e imprima o maior deles."
   ]
  },
  {
   "cell_type": "code",
   "execution_count": null,
   "id": "c2cb3998-3bcd-49d1-a24d-1ed5257f76ed",
   "metadata": {},
   "outputs": [],
   "source": []
  },
  {
   "cell_type": "markdown",
   "id": "a586b34b-a8ce-45c2-a1c9-e1497cd7c013",
   "metadata": {},
   "source": [
    "Faça um programa que peça um valor e mostre na tela se o valor é positivo ou negativo."
   ]
  },
  {
   "cell_type": "code",
   "execution_count": null,
   "id": "a4b81b26-a934-4a5b-b4ad-8dcae3640b03",
   "metadata": {},
   "outputs": [],
   "source": []
  },
  {
   "cell_type": "markdown",
   "id": "e93610d4-08bb-4a72-9bd3-2a8faff20beb",
   "metadata": {},
   "source": [
    "Faça um programa que verifique se uma letra digitada é \"F\" ou \"M\". Conforme a letra escrever:"
   ]
  },
  {
   "cell_type": "code",
   "execution_count": null,
   "id": "0f4e6e34-8f21-41c1-9b5d-e4a5e4bab7a3",
   "metadata": {},
   "outputs": [],
   "source": []
  },
  {
   "cell_type": "markdown",
   "id": "3c194f42-83a4-41e4-a9db-1dbe7ac785e5",
   "metadata": {},
   "source": [
    "Faça um programa para a leitura de duas notas parciais de um aluno. O programa deve calcular a média alcançada por aluno e apresentar:\n",
    "\n",
    "A mensagem \"Aprovado\", se a média alcançada for maior ou igual a sete;\n",
    "A mensagem \"Reprovado\", se a média for menor do que sete;\n",
    "A mensagem \"Aprovado com Distinção\", se a média for igual a dez."
   ]
  },
  {
   "cell_type": "code",
   "execution_count": null,
   "id": "8b54593e-5646-46bd-84a4-fe7de20885aa",
   "metadata": {},
   "outputs": [],
   "source": []
  },
  {
   "cell_type": "markdown",
   "id": "136b3d91-3f2f-41b2-999f-582821e33910",
   "metadata": {},
   "source": [
    "Faça um programa que pergunte o preço de três produtos e informe qual produto você deve comprar, sabendo que a decisão é sempre pelo mais barato:"
   ]
  },
  {
   "cell_type": "code",
   "execution_count": null,
   "id": "8fef4b27-591c-4b0b-aafb-622bfedbae22",
   "metadata": {},
   "outputs": [],
   "source": []
  },
  {
   "cell_type": "markdown",
   "id": "343e90e1-0fb9-4db1-ac96-7e16f5026974",
   "metadata": {},
   "source": [
    "## Estrutura de repetição"
   ]
  },
  {
   "cell_type": "markdown",
   "id": "600dc96d-3434-43e0-a33e-281c468a1b0c",
   "metadata": {},
   "source": [
    "Faça um programa que peça uma nota, entre zero e dez. Mostre uma mensagem caso o valor seja inválido e continue pedindo até que o usuário informe um valor válido."
   ]
  },
  {
   "cell_type": "code",
   "execution_count": null,
   "id": "7c3fefa7-30e5-44d2-b0c0-6706c16e8dc5",
   "metadata": {},
   "outputs": [],
   "source": []
  },
  {
   "cell_type": "markdown",
   "id": "8dc3c8ef-4409-4ab5-a437-1e8d60ba4d61",
   "metadata": {},
   "source": [
    "Faça um programa que leia um nome de usuário e a sua senha e não aceite a senha igual ao nome do usuário, mostrando uma mensagem de erro e voltando a pedir as informações."
   ]
  },
  {
   "cell_type": "code",
   "execution_count": null,
   "id": "1e39039e-744a-4f1d-99bd-bce6b6790a7d",
   "metadata": {},
   "outputs": [],
   "source": []
  },
  {
   "cell_type": "markdown",
   "id": "bd6836e2-1ac1-46b2-9866-37ffd816eafc",
   "metadata": {},
   "source": [
    "Faça um programa que leia e valide as seguintes informações:\n",
    "\n",
    "Nome: maior que 3 caracteres;\n",
    "Idade: entre 0 e 150;\n",
    "Salário: maior que zero;\n",
    "Estado Civil: 's', 'c', 'v', 'd';"
   ]
  },
  {
   "cell_type": "code",
   "execution_count": null,
   "id": "9622b1b0-b962-4ef5-b8c4-44c4d28dfc53",
   "metadata": {},
   "outputs": [],
   "source": []
  },
  {
   "cell_type": "markdown",
   "id": "a036548f-1709-4284-baff-261cea4089c5",
   "metadata": {},
   "source": [
    "Altere o programa anterior permitindo ao usuário informar as populações e as taxas de crescimento iniciais. Valide a entrada e permita repetir a operação."
   ]
  },
  {
   "cell_type": "code",
   "execution_count": null,
   "id": "11def866-c994-4ef6-bbab-25d411baf5d1",
   "metadata": {},
   "outputs": [],
   "source": []
  },
  {
   "cell_type": "markdown",
   "id": "6627e59b-0bfb-42ab-a101-c99991dd9c3c",
   "metadata": {},
   "source": [
    "Faça um programa que leia 5 números e informe o maior número."
   ]
  },
  {
   "cell_type": "code",
   "execution_count": null,
   "id": "f2b64c1a-0535-4cfc-a197-5bc6511aedc1",
   "metadata": {},
   "outputs": [],
   "source": []
  },
  {
   "cell_type": "markdown",
   "id": "d70a60d4-c68f-42f8-bdcb-0e7cf963aeba",
   "metadata": {},
   "source": [
    "## Questões matemáticas"
   ]
  },
  {
   "cell_type": "markdown",
   "id": "53f6a152-94bc-431e-b386-de7aaceb6256",
   "metadata": {},
   "source": [
    "Crie uma função em Python chamada fibonacci(n) que calcule o N-ésimo número da sequência de Fibonacci de forma recursiva simples (sem usar memoização). Em seguida, calcule e imprima o valor de F8."
   ]
  },
  {
   "cell_type": "code",
   "execution_count": null,
   "id": "59d22f64-9655-4fcc-acf8-59cc8eaa464a",
   "metadata": {},
   "outputs": [],
   "source": []
  },
  {
   "cell_type": "markdown",
   "id": "25626bd3-4b4b-4c24-b2ff-48bd215e158e",
   "metadata": {},
   "source": [
    "Implemente o Algoritmo de Euclides em uma função chamada calcular_mdc(a, b) para encontrar o Máximo Divisor Comum entre dois números inteiros positivos a e b. Teste a função com os números 120 e 42."
   ]
  },
  {
   "cell_type": "code",
   "execution_count": null,
   "id": "a65527be-20fe-4e5e-a0e6-c852436d7ed7",
   "metadata": {},
   "outputs": [],
   "source": []
  },
  {
   "cell_type": "markdown",
   "id": "7ec1fcb1-0778-4a01-8697-0dd4cbd3802d",
   "metadata": {},
   "source": [
    "Escreva um programa que utilize o Método de Monte Carlo para estimar o valor de π. Simule o lançamento de 100.000 pontos aleatórios em um quadrado unitário e use a proporção de pontos que caem dentro do círculo inscrito para calcular a estimativa."
   ]
  },
  {
   "cell_type": "code",
   "execution_count": null,
   "id": "ea43bc08-16a3-4ed6-ad72-8a1a9c4e62f9",
   "metadata": {},
   "outputs": [],
   "source": []
  },
  {
   "cell_type": "markdown",
   "id": "d171e8f6-b034-416d-92b7-85a7bf4de059",
   "metadata": {},
   "source": [
    "Crie uma função chamada multiplicar_matrizes(A, B) que receba duas matrizes quadradas N×N como listas de listas (ou usando a biblioteca numpy, se preferir) e retorne a matriz produto C=A×B. Use três laços aninhados (for) para a implementação."
   ]
  },
  {
   "cell_type": "code",
   "execution_count": null,
   "id": "e2d45b5d-3d83-48ff-a66e-fe1dfb3e8d9f",
   "metadata": {},
   "outputs": [],
   "source": []
  },
  {
   "cell_type": "markdown",
   "id": "afeb1384-82de-4913-99f5-11bd1129d4d2",
   "metadata": {},
   "source": [
    "Crie uma função busca_linear(lista, alvo) que execute uma busca linear por um valor alvo em uma lista de tamanho N. Além de implementar a função, inclua um comentário no código indicando qual é a complexidade de tempo assintótica (O) para o pior caso dessa função."
   ]
  },
  {
   "cell_type": "code",
   "execution_count": null,
   "id": "1d037216-f7aa-4979-8042-f22d515cd32a",
   "metadata": {},
   "outputs": [],
   "source": []
  },
  {
   "cell_type": "markdown",
   "id": "d3067081-52ce-4c0c-a34d-a42d607e340b",
   "metadata": {},
   "source": [
    "Implemente uma função chamada eh_impar_bitwise(numero) que verifique se um número inteiro é ímpar. A função deve usar o operador bitwise AND (&) para realizar a verificação de forma eficiente."
   ]
  },
  {
   "cell_type": "code",
   "execution_count": null,
   "id": "78afa81e-5e4f-48e1-87f7-7110e996b726",
   "metadata": {},
   "outputs": [],
   "source": []
  }
 ],
 "metadata": {
  "kernelspec": {
   "display_name": "Python 3 (ipykernel)",
   "language": "python",
   "name": "python3"
  },
  "language_info": {
   "codemirror_mode": {
    "name": "ipython",
    "version": 3
   },
   "file_extension": ".py",
   "mimetype": "text/x-python",
   "name": "python",
   "nbconvert_exporter": "python",
   "pygments_lexer": "ipython3",
   "version": "3.13.7"
  }
 },
 "nbformat": 4,
 "nbformat_minor": 5
}
