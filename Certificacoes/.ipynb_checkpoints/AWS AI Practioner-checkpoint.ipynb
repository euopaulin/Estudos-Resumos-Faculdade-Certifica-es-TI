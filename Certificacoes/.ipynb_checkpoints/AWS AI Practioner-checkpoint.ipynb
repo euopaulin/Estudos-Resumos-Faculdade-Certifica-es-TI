{
 "cells": [
  {
   "cell_type": "markdown",
   "id": "735437be-f796-46a0-a215-2fc8c978f902",
   "metadata": {},
   "source": [
    "## AWS AI Practioner - Certification\n",
    "\n",
    "Resumo do conteúdo da certificação\n",
    "\n",
    "### Tipos de IAs\n",
    "\n",
    "\n",
    "\n",
    "\n",
    "\n",
    "\n",
    "\n",
    "\n",
    "\n",
    "\n",
    "\n",
    "\n",
    "\n",
    "\n",
    "\n",
    "\n",
    "\n",
    "\n",
    "\n",
    "\n",
    "\n",
    "\n",
    "\n",
    "\n",
    "\n",
    "\n",
    "\n",
    "\n",
    "\n",
    "\n",
    "\n",
    "\n"
   ]
  },
  {
   "cell_type": "code",
   "execution_count": null,
   "id": "a384ce8f-5149-4f5b-868e-13ba09b82203",
   "metadata": {},
   "outputs": [],
   "source": []
  }
 ],
 "metadata": {
  "kernelspec": {
   "display_name": "Python 3 (ipykernel)",
   "language": "python",
   "name": "python3"
  },
  "language_info": {
   "codemirror_mode": {
    "name": "ipython",
    "version": 3
   },
   "file_extension": ".py",
   "mimetype": "text/x-python",
   "name": "python",
   "nbconvert_exporter": "python",
   "pygments_lexer": "ipython3",
   "version": "3.13.7"
  }
 },
 "nbformat": 4,
 "nbformat_minor": 5
}
